{
  "nbformat": 4,
  "nbformat_minor": 0,
  "metadata": {
    "colab": {
      "provenance": []
    },
    "kernelspec": {
      "name": "python3",
      "display_name": "Python 3"
    },
    "language_info": {
      "name": "python"
    }
  },
  "cells": [
    {
      "cell_type": "markdown",
      "source": [
        "# Data Science Tools and Ecosystem\n",
        "\n"
      ],
      "metadata": {
        "id": "df8U_V-lt58z"
      }
    },
    {
      "cell_type": "markdown",
      "source": [
        "<h2>Author</h2>\n",
        "Guilherme Palhares Theodoro"
      ],
      "metadata": {
        "id": "TSV_iVGV6sXV"
      }
    },
    {
      "cell_type": "markdown",
      "source": [
        "**In this notebook, Data Science Tools and Ecosystem are summarized.**"
      ],
      "metadata": {
        "id": "sK5umPrcvZlq"
      }
    },
    {
      "cell_type": "markdown",
      "source": [
        "**Objectives:**\n",
        "\n",
        "\n",
        "*   List popular languages for Data Science\n",
        "*   List popular libraries for Data Science\n",
        "*   Create a table showing popular data science tools\n",
        "*   Show simple arithmetic expressions \n",
        "\n"
      ],
      "metadata": {
        "id": "kESESoI_5F8M"
      }
    },
    {
      "cell_type": "markdown",
      "source": [
        "Some of the popular languages that Data Scientists use are:\n",
        "1. Python\n",
        "2. R\n",
        "3. SQL\n",
        "4. Java\n",
        "5. Scala\n",
        "6. C++\n",
        "7. JavaScript\n",
        "8. Julia"
      ],
      "metadata": {
        "id": "-BBVsH30v9Ii"
      }
    },
    {
      "cell_type": "markdown",
      "source": [
        "Some of the commonly used libraries used by Data Scientists include:\n",
        "1. Scikit-learn\n",
        "2. TensorFlow\n",
        "3. Pandas\n",
        "4. NumPy\n",
        "5. Seaborn\n",
        "6. Keras\n"
      ],
      "metadata": {
        "id": "kSnTaVOMxd8J"
      }
    },
    {
      "cell_type": "markdown",
      "source": [
        "| Data Science Tools |\n",
        "---\n",
        "| Anaconda|\n",
        "| VS Code|\n",
        "|Google Colaboratory|"
      ],
      "metadata": {
        "id": "I5Jx9wGCvXIb"
      }
    },
    {
      "cell_type": "markdown",
      "source": [
        "<h3>Below are a few examples of evaluating arithmetic expressions in Python</h3>\n"
      ],
      "metadata": {
        "id": "_RSMFnk512iX"
      }
    },
    {
      "cell_type": "markdown",
      "source": [
        "This is a simple arithmetetic expression to multiply then add integers"
      ],
      "metadata": {
        "id": "rboJBB-H3de2"
      }
    },
    {
      "cell_type": "code",
      "source": [
        "(3*4)+5"
      ],
      "metadata": {
        "colab": {
          "base_uri": "https://localhost:8080/"
        },
        "id": "dppcWHVQ3Ta3",
        "outputId": "c211a1e9-b6d0-43d2-bd23-b66c543f56b2"
      },
      "execution_count": 1,
      "outputs": [
        {
          "output_type": "execute_result",
          "data": {
            "text/plain": [
              "17"
            ]
          },
          "metadata": {},
          "execution_count": 1
        }
      ]
    },
    {
      "cell_type": "markdown",
      "source": [
        "This will convert 200 minutes to hours by diving by 60"
      ],
      "metadata": {
        "id": "TMn8r0294O4d"
      }
    },
    {
      "cell_type": "code",
      "source": [
        "200/60"
      ],
      "metadata": {
        "colab": {
          "base_uri": "https://localhost:8080/"
        },
        "id": "ORBXRlu74QvN",
        "outputId": "5d34dab7-b26d-4594-dcdf-57f4cc418126"
      },
      "execution_count": 2,
      "outputs": [
        {
          "output_type": "execute_result",
          "data": {
            "text/plain": [
              "3.3333333333333335"
            ]
          },
          "metadata": {},
          "execution_count": 2
        }
      ]
    }
  ]
}